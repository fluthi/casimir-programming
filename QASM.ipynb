{
 "cells": [
  {
   "cell_type": "code",
   "execution_count": 1,
   "metadata": {
    "collapsed": true
   },
   "outputs": [],
   "source": [
    "import numpy as np"
   ]
  },
  {
   "cell_type": "code",
   "execution_count": 2,
   "metadata": {
    "collapsed": false
   },
   "outputs": [
    {
     "name": "stdout",
     "output_type": "stream",
     "text": [
      "Overwriting quasm_module.py\n"
     ]
    }
   ],
   "source": [
    "%%writefile quasm_module.py\n",
    "\n",
    "def load_qasm_file(filename):\n",
    "    '''\n",
    "    Reads in a .qasm file. filename a string with the filename, eg. 'test1.qasm'\n",
    "    ---\n",
    "    Return: List of strings with all characters in the file\n",
    "    '''\n",
    "    quasm_file=[]\n",
    "    f=open(filename,'r')\n",
    "    for line in f:\n",
    "        quasm_file.append(line)\n",
    "    return quasm_file\n",
    "\n",
    "def get_filtered_qasm(list_of_qasm_strings):\n",
    "    '''\n",
    "    In: List of strings with comments\n",
    "    ---\n",
    "    Return: list of strings without comments\n",
    "    '''\n",
    "    quasm_instrunctions=[]\n",
    "    alphabet='abcdefghijklmnopqrstuvwxyz'\n",
    "    m=0\n",
    "    for tt, line in enumerate(list_of_qasm_strings):\n",
    "        if not line[0] in alphabet:\n",
    "            m+=1\n",
    "            pass\n",
    "        else:\n",
    "            quasm_instrunctions.append('')\n",
    "            for char in line:\n",
    "                if not char=='#':\n",
    "                    quasm_instrunctions[tt-m]+=char\n",
    "                else:\n",
    "                    break\n",
    "    return quasm_instrunctions\n",
    "\n",
    "def number_of_qubits(quasm_instrunctions):\n",
    "    '''\n",
    "    In: filtered quasm instructions\n",
    "    ---\n",
    "    Out: integer with number of needed qubits\n",
    "    '''\n",
    "    num_qubits=0\n",
    "    for line in quasm_instrunctions:\n",
    "        if 'qubit' in line:\n",
    "            num_qubits+=1\n",
    "    return num_qubits"
   ]
  },
  {
   "cell_type": "code",
   "execution_count": 3,
   "metadata": {
    "collapsed": true
   },
   "outputs": [],
   "source": [
    "import quasm_module as qm"
   ]
  },
  {
   "cell_type": "code",
   "execution_count": 10,
   "metadata": {
    "collapsed": false
   },
   "outputs": [],
   "source": [
    "bla=qm.load_qasm_file('test1.qasm')"
   ]
  },
  {
   "cell_type": "code",
   "execution_count": 11,
   "metadata": {
    "collapsed": false
   },
   "outputs": [],
   "source": [
    "instructions=qm.get_filtered_qasm(bla)"
   ]
  },
  {
   "cell_type": "code",
   "execution_count": 12,
   "metadata": {
    "collapsed": false
   },
   "outputs": [
    {
     "data": {
      "text/plain": [
       "['qubit   q0  ', 'h   q0      ', 'measure q0  ']"
      ]
     },
     "execution_count": 12,
     "metadata": {},
     "output_type": "execute_result"
    }
   ],
   "source": [
    "instructions"
   ]
  },
  {
   "cell_type": "code",
   "execution_count": 3,
   "metadata": {
    "collapsed": false
   },
   "outputs": [
    {
     "name": "stdout",
     "output_type": "stream",
     "text": [
      "\n",
      "\n",
      "qubit   q0  # Define a qubit\n",
      "\n",
      "h   q0      # Apply a Hadamard gate\n",
      "\n",
      "measure q0  # Measure in computational basis\n",
      "\n"
     ]
    }
   ],
   "source": [
    "filename='test1.qasm'\n",
    "quasm_file=[]\n",
    "f=open(filename,'r')\n",
    "for line in f:\n",
    "    quasm_file.append(line)\n",
    "    print(line)"
   ]
  },
  {
   "cell_type": "code",
   "execution_count": 20,
   "metadata": {
    "collapsed": false
   },
   "outputs": [
    {
     "name": "stdout",
     "output_type": "stream",
     "text": [
      "['qubit   q0  ', 'h   q0      ', 'measure q0  ']\n"
     ]
    }
   ],
   "source": [
    "quasm_instrunctions=[]\n",
    "alphabet='abcdefghijklmnopqrstuvwxyz'\n",
    "m=0\n",
    "for tt, line in enumerate(quasm_file):\n",
    "    if not line[0] in alphabet:\n",
    "        m+=1\n",
    "        pass\n",
    "    else:\n",
    "        quasm_instrunctions.append('')\n",
    "        for char in line:\n",
    "            if not char=='#' or char=='\\n':\n",
    "                quasm_instrunctions[tt-m]+=char\n",
    "            else:\n",
    "                break\n",
    "print(quasm_instrunctions)\n",
    "            "
   ]
  },
  {
   "cell_type": "code",
   "execution_count": 13,
   "metadata": {
    "collapsed": false
   },
   "outputs": [
    {
     "name": "stdout",
     "output_type": "stream",
     "text": [
      "Number of qubits is 1\n"
     ]
    }
   ],
   "source": [
    "num_qubits=0\n",
    "for line in quasm_instrunctions:\n",
    "    if 'qubit' in line:\n",
    "        num_qubits+=1\n",
    "print('Number of qubits is '+str(num_qubits))"
   ]
  },
  {
   "cell_type": "code",
   "execution_count": 11,
   "metadata": {
    "collapsed": false
   },
   "outputs": [
    {
     "data": {
      "text/plain": [
       "1"
      ]
     },
     "execution_count": 11,
     "metadata": {},
     "output_type": "execute_result"
    }
   ],
   "source": [
    "def number_of_qubits(quasm_instrunctions):\n",
    "    num_qubits=0\n",
    "    for line in quasm_instrunctions:\n",
    "        if 'qubit' in line:\n",
    "            num_qubits+=1\n",
    "    return num_qubits"
   ]
  },
  {
   "cell_type": "code",
   "execution_count": 45,
   "metadata": {
    "collapsed": false
   },
   "outputs": [
    {
     "data": {
      "text/plain": [
       "array(2)"
      ]
     },
     "execution_count": 45,
     "metadata": {},
     "output_type": "execute_result"
    }
   ],
   "source": [
    "np.tensordot([[0,1],[0,1]],[[0,1],[0,1]])"
   ]
  },
  {
   "cell_type": "code",
   "execution_count": 52,
   "metadata": {
    "collapsed": false
   },
   "outputs": [
    {
     "name": "stdout",
     "output_type": "stream",
     "text": [
      "[[1 0]\n",
      " [0 1]]\n",
      "[[1 0]\n",
      " [1 1]]\n",
      "[[1 0 0 0]\n",
      " [1 1 0 0]\n",
      " [0 0 1 0]\n",
      " [0 0 1 1]]\n"
     ]
    }
   ],
   "source": [
    "A=np.array([[1,0],[0,1]])\n",
    "print(A)\n",
    "B=np.array([[1,0],[1,1]])\n",
    "print(B)\n",
    "print(np.kron(A,B))"
   ]
  },
  {
   "cell_type": "code",
   "execution_count": 47,
   "metadata": {
    "collapsed": false
   },
   "outputs": [
    {
     "data": {
      "text/plain": [
       "array([[0, 1, 0, 1],\n",
       "       [0, 0, 0, 0],\n",
       "       [0, 0, 0, 0],\n",
       "       [0, 1, 0, 1]])"
      ]
     },
     "execution_count": 47,
     "metadata": {},
     "output_type": "execute_result"
    }
   ],
   "source": [
    "np.outer([[1,0],[0,1]],[[0,1],[0,1]])"
   ]
  },
  {
   "cell_type": "markdown",
   "metadata": {},
   "source": [
    "### Basic Ideas\n",
    "* Read in the quasm file\n",
    "* Extract such that it contains only relevant information\n",
    "* Make a qubit class\n",
    "* Find how many quibts are needed\n"
   ]
  },
  {
   "cell_type": "code",
   "execution_count": null,
   "metadata": {
    "collapsed": true
   },
   "outputs": [],
   "source": []
  }
 ],
 "metadata": {
  "anaconda-cloud": {},
  "kernelspec": {
   "display_name": "Python [default]",
   "language": "python",
   "name": "python3"
  },
  "language_info": {
   "codemirror_mode": {
    "name": "ipython",
    "version": 3
   },
   "file_extension": ".py",
   "mimetype": "text/x-python",
   "name": "python",
   "nbconvert_exporter": "python",
   "pygments_lexer": "ipython3",
   "version": "3.5.2"
  }
 },
 "nbformat": 4,
 "nbformat_minor": 1
}
